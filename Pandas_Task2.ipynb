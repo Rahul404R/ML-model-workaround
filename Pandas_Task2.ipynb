{
 "cells": [
  {
   "cell_type": "code",
   "execution_count": 1,
   "id": "d2f8bd89",
   "metadata": {},
   "outputs": [
    {
     "name": "stdout",
     "output_type": "stream",
     "text": [
      "                              Date Unnamed: 1 Unnamed: 2\n",
      "0                 Overall Accounts        NaN        NaN\n",
      "1                            Model     Target      Sales\n",
      "2                A.M. Maus and Son  $1,070.00     3235.8\n",
      "3          Acura of Baton Rouge_AC  $1,000.00     7900.8\n",
      "4           Alfa Romeo Of Glendale  $3,111.64     7896.3\n",
      "..                             ...        ...        ...\n",
      "132                Woodfield Lexus  $2,800.00    21851.8\n",
      "133   York Chrysler Dodge Jeep Ram  $1,540.00     7374.9\n",
      "134    Zeigler Chrysler Dodge Jeep    $770.00    65564.0\n",
      "135       getBMWparts.com (Banner)    $800.00     2281.2\n",
      "136  All American Ford of Kingston    $870.00     9586.3\n",
      "\n",
      "[137 rows x 3 columns]\n"
     ]
    }
   ],
   "source": [
    "# read all dataset from csv\n",
    "\n",
    "import pandas as pd\n",
    "\n",
    "df = pd.read_csv('Downloads\\input.csv')\n",
    "print(df)"
   ]
  },
  {
   "cell_type": "code",
   "execution_count": 20,
   "id": "3b93634a",
   "metadata": {},
   "outputs": [
    {
     "name": "stdout",
     "output_type": "stream",
     "text": [
      "            Model     Target    Sales\n",
      "11  Audi Columbus    $650.00   8252.4\n",
      "63     Keyes Audi  $1,260.00  13935.0\n"
     ]
    }
   ],
   "source": [
    "#function to read csv data\n",
    "\n",
    "def readcsv(val1):\n",
    "    df1 = pd.read_csv('Downloads\\input.csv',skiprows =2)\n",
    "    df1 = df1[df1['Model'].str.contains(val1)]\n",
    "    print(df1)\n",
    "    \n",
    "readcsv('Audi')"
   ]
  },
  {
   "cell_type": "code",
   "execution_count": 2,
   "id": "4d972d67",
   "metadata": {},
   "outputs": [
    {
     "name": "stdout",
     "output_type": "stream",
     "text": [
      "                        Model     Target    Sales\n",
      "12            BMW of El Cajon    $420.00  20073.2\n",
      "97         Nick Alexander BMW  $1,200.00  13458.0\n",
      "133  getBMWparts.com (Banner)    $800.00   2281.2\n",
      "                                   Model     Target    Sales\n",
      "3        All American Ford of Hackensack  $2,610.00  21891.9\n",
      "4          All American Ford of Kingston    $870.00   9586.3\n",
      "5        All American Ford of Old Bridge  $3,480.00  20209.8\n",
      "6           All American Ford of Paramus  $1,740.00  18826.4\n",
      "7    All American Ford of Point Pleasant  $2,175.00  11585.2\n",
      "10            Anderson's Rock River Ford    $562.50   3914.3\n",
      "14           Bill Alexander Ford Lincoln    $375.00   6390.8\n",
      "28                       Elkins Fordland    $750.00   5070.9\n",
      "31                         Fairlane Ford  $1,125.00      0.0\n",
      "53                    Hixson Ford Monroe    $720.00   9394.4\n",
      "76                         Loveland Ford  $1,530.00  25956.4\n",
      "116                         Skalnek Ford    $750.00   8026.5\n",
      "121                        Tom Wood Ford  $1,200.00  12359.8\n",
      "134        All American Ford of Kingston    $870.00   9586.3\n",
      "                               Model     Target    Sales\n",
      "35                     Keyes Hyundai    $830.00   8342.5\n",
      "66                     Keyes Hyundai    $830.00   8342.5\n",
      "73   Lester Glenn Hyundai Toms River    $410.00   1193.5\n",
      "89                MotorWorld Hyundai    $800.00   6160.4\n",
      "100      O'Brien Ft. Myers - Hyundai  $1,600.00  32288.3\n",
      "117                    Sport Hyundai    $750.00  10661.3\n"
     ]
    }
   ],
   "source": [
    "#function to read csv data with multiple input\n",
    "\n",
    "def readcsv(*val1):\n",
    "    df1 = pd.read_csv('Downloads\\input.csv',skiprows =2)\n",
    "    for i in val1:\n",
    "        df2 = df1[df1['Model'].str.contains(i)]\n",
    "        print(df2)\n",
    "    \n",
    "\n",
    "myval = ['BMW','Ford','Hyundai']\n",
    "\n",
    "readcsv(*myval)\n",
    "\n",
    "#but the problem here is getting aligment error"
   ]
  },
  {
   "cell_type": "code",
   "execution_count": 90,
   "id": "c03aa36f",
   "metadata": {
    "scrolled": true
   },
   "outputs": [
    {
     "name": "stdout",
     "output_type": "stream",
     "text": [
      "                               Model   Target    Sales Status\n",
      "0                  A.M. Maus and Son  1070.00   323.58  Ideal\n",
      "1            Acura of Baton Rouge_AC  1000.00   790.08  Ideal\n",
      "2             Alfa Romeo Of Glendale  3111.64   789.63  Ideal\n",
      "3    All American Ford of Hackensack  2610.00  2189.19  Ideal\n",
      "5    All American Ford of Old Bridge  3480.00  2020.98  Ideal\n",
      "..                               ...      ...      ...    ...\n",
      "129                     Witt Lincoln  1350.00   378.92  Ideal\n",
      "130                  Woodfield Lexus  2800.00  2185.18  Ideal\n",
      "131     York Chrysler Dodge Jeep Ram  1540.00   737.49  Ideal\n",
      "132      Zeigler Chrysler Dodge Jeep   770.00  6556.40  Alert\n",
      "133         getBMWparts.com (Banner)   800.00   228.12  Alert\n",
      "\n",
      "[131 rows x 4 columns]\n"
     ]
    }
   ],
   "source": [
    "df = pd.read_csv('Downloads\\input.csv',skiprows = 2)\n",
    "# df = df[df['Model'].str.contains('BMW')]\n",
    "df.drop_duplicates(subset = 'Model',keep = False, inplace = True) # remove duplicates\n",
    "df1=df.replace('\\$','',regex=True) #cleanup\n",
    "df1=df1.replace('\\,','',regex=True) #cleanup\n",
    "df1['Target'] = df1['Target'].astype(float) # convert string to numeric\n",
    "df1['Sales']=df1['Sales'].div(10) # Divide sales by 10\n",
    "df1.sort_values(by=['Model'],ascending=True) # Sort by column Model\n",
    "df1['Status'] = ['Alert' if a < 1000 else 'Ideal' for a in df1['Target']] # new column created with data based on Target column\n",
    "\n",
    "print(df1)\n",
    "\n",
    "\n"
   ]
  }
 ],
 "metadata": {
  "kernelspec": {
   "display_name": "Python 3 (ipykernel)",
   "language": "python",
   "name": "python3"
  },
  "language_info": {
   "codemirror_mode": {
    "name": "ipython",
    "version": 3
   },
   "file_extension": ".py",
   "mimetype": "text/x-python",
   "name": "python",
   "nbconvert_exporter": "python",
   "pygments_lexer": "ipython3",
   "version": "3.9.12"
  }
 },
 "nbformat": 4,
 "nbformat_minor": 5
}
